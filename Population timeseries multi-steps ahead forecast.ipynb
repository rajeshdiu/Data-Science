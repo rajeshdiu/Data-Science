{
 "cells": [
  {
   "cell_type": "code",
   "execution_count": 77,
   "id": "3c100925",
   "metadata": {},
   "outputs": [],
   "source": [
    "import pandas as pd\n",
    "import numpy as np\n",
    "%matplotlib inline\n",
    "import matplotlib.pyplot as plt\n",
    "from sklearn.preprocessing import LabelEncoder\n",
    "import datetime as dt\n",
    "import datetime"
   ]
  },
  {
   "cell_type": "code",
   "execution_count": 61,
   "id": "48eaa905",
   "metadata": {},
   "outputs": [],
   "source": [
    "df=pd.read_csv(\"C:\\\\Users\\\\User\\\\Desktop\\\\Data-Science\\\\Dataset\\\\POP.csv\")"
   ]
  },
  {
   "cell_type": "code",
   "execution_count": 62,
   "id": "84d81d38",
   "metadata": {},
   "outputs": [
    {
     "data": {
      "text/html": [
       "<div>\n",
       "<style scoped>\n",
       "    .dataframe tbody tr th:only-of-type {\n",
       "        vertical-align: middle;\n",
       "    }\n",
       "\n",
       "    .dataframe tbody tr th {\n",
       "        vertical-align: top;\n",
       "    }\n",
       "\n",
       "    .dataframe thead th {\n",
       "        text-align: right;\n",
       "    }\n",
       "</style>\n",
       "<table border=\"1\" class=\"dataframe\">\n",
       "  <thead>\n",
       "    <tr style=\"text-align: right;\">\n",
       "      <th></th>\n",
       "      <th>realtime_start</th>\n",
       "      <th>value</th>\n",
       "      <th>date</th>\n",
       "      <th>realtime_end</th>\n",
       "    </tr>\n",
       "  </thead>\n",
       "  <tbody>\n",
       "    <tr>\n",
       "      <th>0</th>\n",
       "      <td>2019-12-06</td>\n",
       "      <td>156309.0</td>\n",
       "      <td>1952-01-01</td>\n",
       "      <td>2019-12-06</td>\n",
       "    </tr>\n",
       "    <tr>\n",
       "      <th>1</th>\n",
       "      <td>2019-12-06</td>\n",
       "      <td>156527.0</td>\n",
       "      <td>1952-02-01</td>\n",
       "      <td>2019-12-06</td>\n",
       "    </tr>\n",
       "    <tr>\n",
       "      <th>2</th>\n",
       "      <td>2019-12-06</td>\n",
       "      <td>156731.0</td>\n",
       "      <td>1952-03-01</td>\n",
       "      <td>2019-12-06</td>\n",
       "    </tr>\n",
       "    <tr>\n",
       "      <th>3</th>\n",
       "      <td>2019-12-06</td>\n",
       "      <td>156943.0</td>\n",
       "      <td>1952-04-01</td>\n",
       "      <td>2019-12-06</td>\n",
       "    </tr>\n",
       "    <tr>\n",
       "      <th>4</th>\n",
       "      <td>2019-12-06</td>\n",
       "      <td>157140.0</td>\n",
       "      <td>1952-05-01</td>\n",
       "      <td>2019-12-06</td>\n",
       "    </tr>\n",
       "  </tbody>\n",
       "</table>\n",
       "</div>"
      ],
      "text/plain": [
       "  realtime_start     value        date realtime_end\n",
       "0     2019-12-06  156309.0  1952-01-01   2019-12-06\n",
       "1     2019-12-06  156527.0  1952-02-01   2019-12-06\n",
       "2     2019-12-06  156731.0  1952-03-01   2019-12-06\n",
       "3     2019-12-06  156943.0  1952-04-01   2019-12-06\n",
       "4     2019-12-06  157140.0  1952-05-01   2019-12-06"
      ]
     },
     "execution_count": 62,
     "metadata": {},
     "output_type": "execute_result"
    }
   ],
   "source": [
    "df.head()"
   ]
  },
  {
   "cell_type": "code",
   "execution_count": 63,
   "id": "2cad9a70",
   "metadata": {},
   "outputs": [
    {
     "data": {
      "text/plain": [
       "(816, 4)"
      ]
     },
     "execution_count": 63,
     "metadata": {},
     "output_type": "execute_result"
    }
   ],
   "source": [
    "df.shape"
   ]
  },
  {
   "cell_type": "code",
   "execution_count": 64,
   "id": "f63e5132",
   "metadata": {},
   "outputs": [
    {
     "data": {
      "text/plain": [
       "realtime_start     object\n",
       "value             float64\n",
       "date               object\n",
       "realtime_end       object\n",
       "dtype: object"
      ]
     },
     "execution_count": 64,
     "metadata": {},
     "output_type": "execute_result"
    }
   ],
   "source": [
    "df.dtypes"
   ]
  },
  {
   "cell_type": "code",
   "execution_count": 65,
   "id": "e1c182b2",
   "metadata": {},
   "outputs": [
    {
     "data": {
      "text/plain": [
       "realtime_start    0\n",
       "value             0\n",
       "date              0\n",
       "realtime_end      0\n",
       "dtype: int64"
      ]
     },
     "execution_count": 65,
     "metadata": {},
     "output_type": "execute_result"
    }
   ],
   "source": [
    "df.isnull().sum()"
   ]
  },
  {
   "cell_type": "code",
   "execution_count": 66,
   "id": "84f0ba19",
   "metadata": {},
   "outputs": [],
   "source": [
    "for col in df.columns.tolist():\n",
    "    if df[col].dtype==\"object\":\n",
    "        df[col] = pd.to_datetime(df[col])"
   ]
  },
  {
   "cell_type": "code",
   "execution_count": 67,
   "id": "fece9997",
   "metadata": {},
   "outputs": [
    {
     "data": {
      "text/plain": [
       "realtime_start    datetime64[ns]\n",
       "value                    float64\n",
       "date              datetime64[ns]\n",
       "realtime_end      datetime64[ns]\n",
       "dtype: object"
      ]
     },
     "execution_count": 67,
     "metadata": {},
     "output_type": "execute_result"
    }
   ],
   "source": [
    "df.dtypes"
   ]
  },
  {
   "cell_type": "code",
   "execution_count": 87,
   "id": "1a679fdd",
   "metadata": {},
   "outputs": [
    {
     "data": {
      "text/plain": [
       "0       Tuesday\n",
       "1        Friday\n",
       "2      Saturday\n",
       "3       Tuesday\n",
       "4      Thursday\n",
       "         ...   \n",
       "811    Thursday\n",
       "812      Sunday\n",
       "813     Tuesday\n",
       "814      Friday\n",
       "815      Sunday\n",
       "Name: date, Length: 816, dtype: object"
      ]
     },
     "execution_count": 87,
     "metadata": {},
     "output_type": "execute_result"
    }
   ],
   "source": [
    "df.date.apply(lambda x: x.day_name())"
   ]
  },
  {
   "cell_type": "code",
   "execution_count": 88,
   "id": "53876252",
   "metadata": {},
   "outputs": [
    {
     "data": {
      "text/plain": [
       "0        January\n",
       "1       February\n",
       "2          March\n",
       "3          April\n",
       "4            May\n",
       "         ...    \n",
       "811       August\n",
       "812    September\n",
       "813      October\n",
       "814     November\n",
       "815     December\n",
       "Name: date, Length: 816, dtype: object"
      ]
     },
     "execution_count": 88,
     "metadata": {},
     "output_type": "execute_result"
    }
   ],
   "source": [
    "df.date.apply(lambda x: x.month_name())"
   ]
  },
  {
   "cell_type": "code",
   "execution_count": 81,
   "id": "1c963d78",
   "metadata": {},
   "outputs": [
    {
     "data": {
      "text/html": [
       "<div>\n",
       "<style scoped>\n",
       "    .dataframe tbody tr th:only-of-type {\n",
       "        vertical-align: middle;\n",
       "    }\n",
       "\n",
       "    .dataframe tbody tr th {\n",
       "        vertical-align: top;\n",
       "    }\n",
       "\n",
       "    .dataframe thead th {\n",
       "        text-align: right;\n",
       "    }\n",
       "</style>\n",
       "<table border=\"1\" class=\"dataframe\">\n",
       "  <thead>\n",
       "    <tr style=\"text-align: right;\">\n",
       "      <th></th>\n",
       "      <th>value</th>\n",
       "      <th>day_of_week</th>\n",
       "      <th>month</th>\n",
       "      <th>day_of_year</th>\n",
       "    </tr>\n",
       "  </thead>\n",
       "  <tbody>\n",
       "    <tr>\n",
       "      <th>count</th>\n",
       "      <td>816.000000</td>\n",
       "      <td>816.000000</td>\n",
       "      <td>816.00000</td>\n",
       "      <td>816.000000</td>\n",
       "    </tr>\n",
       "    <tr>\n",
       "      <th>mean</th>\n",
       "      <td>243847.767826</td>\n",
       "      <td>3.003676</td>\n",
       "      <td>6.50000</td>\n",
       "      <td>167.708333</td>\n",
       "    </tr>\n",
       "    <tr>\n",
       "      <th>std</th>\n",
       "      <td>50519.140567</td>\n",
       "      <td>2.003368</td>\n",
       "      <td>3.45417</td>\n",
       "      <td>105.137424</td>\n",
       "    </tr>\n",
       "    <tr>\n",
       "      <th>min</th>\n",
       "      <td>156309.000000</td>\n",
       "      <td>0.000000</td>\n",
       "      <td>1.00000</td>\n",
       "      <td>1.000000</td>\n",
       "    </tr>\n",
       "    <tr>\n",
       "      <th>25%</th>\n",
       "      <td>201725.250000</td>\n",
       "      <td>1.000000</td>\n",
       "      <td>3.75000</td>\n",
       "      <td>83.500000</td>\n",
       "    </tr>\n",
       "    <tr>\n",
       "      <th>50%</th>\n",
       "      <td>239557.500000</td>\n",
       "      <td>3.000000</td>\n",
       "      <td>6.50000</td>\n",
       "      <td>167.500000</td>\n",
       "    </tr>\n",
       "    <tr>\n",
       "      <th>75%</th>\n",
       "      <td>289364.250000</td>\n",
       "      <td>5.000000</td>\n",
       "      <td>9.25000</td>\n",
       "      <td>252.250000</td>\n",
       "    </tr>\n",
       "    <tr>\n",
       "      <th>max</th>\n",
       "      <td>330309.946000</td>\n",
       "      <td>6.000000</td>\n",
       "      <td>12.00000</td>\n",
       "      <td>336.000000</td>\n",
       "    </tr>\n",
       "  </tbody>\n",
       "</table>\n",
       "</div>"
      ],
      "text/plain": [
       "               value  day_of_week      month  day_of_year\n",
       "count     816.000000   816.000000  816.00000   816.000000\n",
       "mean   243847.767826     3.003676    6.50000   167.708333\n",
       "std     50519.140567     2.003368    3.45417   105.137424\n",
       "min    156309.000000     0.000000    1.00000     1.000000\n",
       "25%    201725.250000     1.000000    3.75000    83.500000\n",
       "50%    239557.500000     3.000000    6.50000   167.500000\n",
       "75%    289364.250000     5.000000    9.25000   252.250000\n",
       "max    330309.946000     6.000000   12.00000   336.000000"
      ]
     },
     "execution_count": 81,
     "metadata": {},
     "output_type": "execute_result"
    }
   ],
   "source": [
    "df.describe()"
   ]
  },
  {
   "cell_type": "code",
   "execution_count": 68,
   "id": "81733aa1",
   "metadata": {},
   "outputs": [
    {
     "data": {
      "text/html": [
       "<div>\n",
       "<style scoped>\n",
       "    .dataframe tbody tr th:only-of-type {\n",
       "        vertical-align: middle;\n",
       "    }\n",
       "\n",
       "    .dataframe tbody tr th {\n",
       "        vertical-align: top;\n",
       "    }\n",
       "\n",
       "    .dataframe thead th {\n",
       "        text-align: right;\n",
       "    }\n",
       "</style>\n",
       "<table border=\"1\" class=\"dataframe\">\n",
       "  <thead>\n",
       "    <tr style=\"text-align: right;\">\n",
       "      <th></th>\n",
       "      <th>realtime_start</th>\n",
       "      <th>value</th>\n",
       "      <th>date</th>\n",
       "      <th>realtime_end</th>\n",
       "    </tr>\n",
       "  </thead>\n",
       "  <tbody>\n",
       "    <tr>\n",
       "      <th>0</th>\n",
       "      <td>2019-12-06</td>\n",
       "      <td>156309.0</td>\n",
       "      <td>1952-01-01</td>\n",
       "      <td>2019-12-06</td>\n",
       "    </tr>\n",
       "    <tr>\n",
       "      <th>1</th>\n",
       "      <td>2019-12-06</td>\n",
       "      <td>156527.0</td>\n",
       "      <td>1952-02-01</td>\n",
       "      <td>2019-12-06</td>\n",
       "    </tr>\n",
       "    <tr>\n",
       "      <th>2</th>\n",
       "      <td>2019-12-06</td>\n",
       "      <td>156731.0</td>\n",
       "      <td>1952-03-01</td>\n",
       "      <td>2019-12-06</td>\n",
       "    </tr>\n",
       "    <tr>\n",
       "      <th>3</th>\n",
       "      <td>2019-12-06</td>\n",
       "      <td>156943.0</td>\n",
       "      <td>1952-04-01</td>\n",
       "      <td>2019-12-06</td>\n",
       "    </tr>\n",
       "    <tr>\n",
       "      <th>4</th>\n",
       "      <td>2019-12-06</td>\n",
       "      <td>157140.0</td>\n",
       "      <td>1952-05-01</td>\n",
       "      <td>2019-12-06</td>\n",
       "    </tr>\n",
       "  </tbody>\n",
       "</table>\n",
       "</div>"
      ],
      "text/plain": [
       "  realtime_start     value       date realtime_end\n",
       "0     2019-12-06  156309.0 1952-01-01   2019-12-06\n",
       "1     2019-12-06  156527.0 1952-02-01   2019-12-06\n",
       "2     2019-12-06  156731.0 1952-03-01   2019-12-06\n",
       "3     2019-12-06  156943.0 1952-04-01   2019-12-06\n",
       "4     2019-12-06  157140.0 1952-05-01   2019-12-06"
      ]
     },
     "execution_count": 68,
     "metadata": {},
     "output_type": "execute_result"
    }
   ],
   "source": [
    "df.head()"
   ]
  },
  {
   "cell_type": "code",
   "execution_count": 69,
   "id": "820fd7f4",
   "metadata": {},
   "outputs": [],
   "source": [
    "df['day_name']=df.date.dt.day_name()"
   ]
  },
  {
   "cell_type": "code",
   "execution_count": 70,
   "id": "9aa6257b",
   "metadata": {},
   "outputs": [],
   "source": [
    "df['day_of_week']=df.date.dt.dayofweek"
   ]
  },
  {
   "cell_type": "code",
   "execution_count": 71,
   "id": "4c703717",
   "metadata": {},
   "outputs": [],
   "source": [
    "df['month']=df.date.dt.month"
   ]
  },
  {
   "cell_type": "code",
   "execution_count": 72,
   "id": "15b42935",
   "metadata": {},
   "outputs": [],
   "source": [
    "df['month_name']=df.date.dt.month_name()"
   ]
  },
  {
   "cell_type": "code",
   "execution_count": 73,
   "id": "cfe8efc9",
   "metadata": {},
   "outputs": [],
   "source": [
    "df['day_of_year']=df.date.dt.dayofyear"
   ]
  },
  {
   "cell_type": "code",
   "execution_count": 82,
   "id": "c2baabc5",
   "metadata": {},
   "outputs": [],
   "source": [
    "df[\"Asia_Timezone\"]=df.date.dt.tz_localize(\"Asia/Calcutta\")"
   ]
  },
  {
   "cell_type": "code",
   "execution_count": 84,
   "id": "5afec4fa",
   "metadata": {},
   "outputs": [],
   "source": [
    "df[\"UTC_Timezone\"]=df.Asia_Timezone.dt.tz_convert(\"UTC\")"
   ]
  },
  {
   "cell_type": "code",
   "execution_count": 85,
   "id": "4ac9bea6",
   "metadata": {},
   "outputs": [
    {
     "data": {
      "text/html": [
       "<div>\n",
       "<style scoped>\n",
       "    .dataframe tbody tr th:only-of-type {\n",
       "        vertical-align: middle;\n",
       "    }\n",
       "\n",
       "    .dataframe tbody tr th {\n",
       "        vertical-align: top;\n",
       "    }\n",
       "\n",
       "    .dataframe thead th {\n",
       "        text-align: right;\n",
       "    }\n",
       "</style>\n",
       "<table border=\"1\" class=\"dataframe\">\n",
       "  <thead>\n",
       "    <tr style=\"text-align: right;\">\n",
       "      <th></th>\n",
       "      <th>realtime_start</th>\n",
       "      <th>value</th>\n",
       "      <th>date</th>\n",
       "      <th>realtime_end</th>\n",
       "      <th>day_name</th>\n",
       "      <th>day_of_week</th>\n",
       "      <th>month</th>\n",
       "      <th>month_name</th>\n",
       "      <th>day_of_year</th>\n",
       "      <th>Asia_Timezone</th>\n",
       "      <th>UTC_Timezone</th>\n",
       "    </tr>\n",
       "  </thead>\n",
       "  <tbody>\n",
       "    <tr>\n",
       "      <th>0</th>\n",
       "      <td>2019-12-06</td>\n",
       "      <td>156309.0</td>\n",
       "      <td>1952-01-01</td>\n",
       "      <td>2019-12-06</td>\n",
       "      <td>Tuesday</td>\n",
       "      <td>1</td>\n",
       "      <td>1</td>\n",
       "      <td>January</td>\n",
       "      <td>1</td>\n",
       "      <td>1952-01-01 00:00:00+05:30</td>\n",
       "      <td>1951-12-31 18:30:00+00:00</td>\n",
       "    </tr>\n",
       "    <tr>\n",
       "      <th>1</th>\n",
       "      <td>2019-12-06</td>\n",
       "      <td>156527.0</td>\n",
       "      <td>1952-02-01</td>\n",
       "      <td>2019-12-06</td>\n",
       "      <td>Friday</td>\n",
       "      <td>4</td>\n",
       "      <td>2</td>\n",
       "      <td>February</td>\n",
       "      <td>32</td>\n",
       "      <td>1952-02-01 00:00:00+05:30</td>\n",
       "      <td>1952-01-31 18:30:00+00:00</td>\n",
       "    </tr>\n",
       "    <tr>\n",
       "      <th>2</th>\n",
       "      <td>2019-12-06</td>\n",
       "      <td>156731.0</td>\n",
       "      <td>1952-03-01</td>\n",
       "      <td>2019-12-06</td>\n",
       "      <td>Saturday</td>\n",
       "      <td>5</td>\n",
       "      <td>3</td>\n",
       "      <td>March</td>\n",
       "      <td>61</td>\n",
       "      <td>1952-03-01 00:00:00+05:30</td>\n",
       "      <td>1952-02-29 18:30:00+00:00</td>\n",
       "    </tr>\n",
       "    <tr>\n",
       "      <th>3</th>\n",
       "      <td>2019-12-06</td>\n",
       "      <td>156943.0</td>\n",
       "      <td>1952-04-01</td>\n",
       "      <td>2019-12-06</td>\n",
       "      <td>Tuesday</td>\n",
       "      <td>1</td>\n",
       "      <td>4</td>\n",
       "      <td>April</td>\n",
       "      <td>92</td>\n",
       "      <td>1952-04-01 00:00:00+05:30</td>\n",
       "      <td>1952-03-31 18:30:00+00:00</td>\n",
       "    </tr>\n",
       "    <tr>\n",
       "      <th>4</th>\n",
       "      <td>2019-12-06</td>\n",
       "      <td>157140.0</td>\n",
       "      <td>1952-05-01</td>\n",
       "      <td>2019-12-06</td>\n",
       "      <td>Thursday</td>\n",
       "      <td>3</td>\n",
       "      <td>5</td>\n",
       "      <td>May</td>\n",
       "      <td>122</td>\n",
       "      <td>1952-05-01 00:00:00+05:30</td>\n",
       "      <td>1952-04-30 18:30:00+00:00</td>\n",
       "    </tr>\n",
       "  </tbody>\n",
       "</table>\n",
       "</div>"
      ],
      "text/plain": [
       "  realtime_start     value       date realtime_end  day_name  day_of_week  \\\n",
       "0     2019-12-06  156309.0 1952-01-01   2019-12-06   Tuesday            1   \n",
       "1     2019-12-06  156527.0 1952-02-01   2019-12-06    Friday            4   \n",
       "2     2019-12-06  156731.0 1952-03-01   2019-12-06  Saturday            5   \n",
       "3     2019-12-06  156943.0 1952-04-01   2019-12-06   Tuesday            1   \n",
       "4     2019-12-06  157140.0 1952-05-01   2019-12-06  Thursday            3   \n",
       "\n",
       "   month month_name  day_of_year             Asia_Timezone  \\\n",
       "0      1    January            1 1952-01-01 00:00:00+05:30   \n",
       "1      2   February           32 1952-02-01 00:00:00+05:30   \n",
       "2      3      March           61 1952-03-01 00:00:00+05:30   \n",
       "3      4      April           92 1952-04-01 00:00:00+05:30   \n",
       "4      5        May          122 1952-05-01 00:00:00+05:30   \n",
       "\n",
       "               UTC_Timezone  \n",
       "0 1951-12-31 18:30:00+00:00  \n",
       "1 1952-01-31 18:30:00+00:00  \n",
       "2 1952-02-29 18:30:00+00:00  \n",
       "3 1952-03-31 18:30:00+00:00  \n",
       "4 1952-04-30 18:30:00+00:00  "
      ]
     },
     "execution_count": 85,
     "metadata": {},
     "output_type": "execute_result"
    }
   ],
   "source": [
    "df.head()"
   ]
  },
  {
   "cell_type": "code",
   "execution_count": 86,
   "id": "8385deb6",
   "metadata": {},
   "outputs": [
    {
     "data": {
      "text/html": [
       "<div>\n",
       "<style scoped>\n",
       "    .dataframe tbody tr th:only-of-type {\n",
       "        vertical-align: middle;\n",
       "    }\n",
       "\n",
       "    .dataframe tbody tr th {\n",
       "        vertical-align: top;\n",
       "    }\n",
       "\n",
       "    .dataframe thead th {\n",
       "        text-align: right;\n",
       "    }\n",
       "</style>\n",
       "<table border=\"1\" class=\"dataframe\">\n",
       "  <thead>\n",
       "    <tr style=\"text-align: right;\">\n",
       "      <th></th>\n",
       "      <th>Asia_Timezone</th>\n",
       "      <th>UTC_Timezone</th>\n",
       "    </tr>\n",
       "  </thead>\n",
       "  <tbody>\n",
       "    <tr>\n",
       "      <th>0</th>\n",
       "      <td>1952-01-01 00:00:00+05:30</td>\n",
       "      <td>1951-12-31 18:30:00+00:00</td>\n",
       "    </tr>\n",
       "    <tr>\n",
       "      <th>1</th>\n",
       "      <td>1952-02-01 00:00:00+05:30</td>\n",
       "      <td>1952-01-31 18:30:00+00:00</td>\n",
       "    </tr>\n",
       "    <tr>\n",
       "      <th>2</th>\n",
       "      <td>1952-03-01 00:00:00+05:30</td>\n",
       "      <td>1952-02-29 18:30:00+00:00</td>\n",
       "    </tr>\n",
       "    <tr>\n",
       "      <th>3</th>\n",
       "      <td>1952-04-01 00:00:00+05:30</td>\n",
       "      <td>1952-03-31 18:30:00+00:00</td>\n",
       "    </tr>\n",
       "    <tr>\n",
       "      <th>4</th>\n",
       "      <td>1952-05-01 00:00:00+05:30</td>\n",
       "      <td>1952-04-30 18:30:00+00:00</td>\n",
       "    </tr>\n",
       "  </tbody>\n",
       "</table>\n",
       "</div>"
      ],
      "text/plain": [
       "              Asia_Timezone              UTC_Timezone\n",
       "0 1952-01-01 00:00:00+05:30 1951-12-31 18:30:00+00:00\n",
       "1 1952-02-01 00:00:00+05:30 1952-01-31 18:30:00+00:00\n",
       "2 1952-03-01 00:00:00+05:30 1952-02-29 18:30:00+00:00\n",
       "3 1952-04-01 00:00:00+05:30 1952-03-31 18:30:00+00:00\n",
       "4 1952-05-01 00:00:00+05:30 1952-04-30 18:30:00+00:00"
      ]
     },
     "execution_count": 86,
     "metadata": {},
     "output_type": "execute_result"
    }
   ],
   "source": [
    "df[[\"Asia_Timezone\",\"UTC_Timezone\"]].head()"
   ]
  },
  {
   "cell_type": "code",
   "execution_count": 79,
   "id": "9a142e66",
   "metadata": {},
   "outputs": [
    {
     "data": {
      "image/png": "[encoded data removed]",
      "text/plain": [
       "<Figure size 432x288 with 1 Axes>"
      ]
     },
     "metadata": {
      "needs_background": "light"
     },
     "output_type": "display_data"
    }
   ],
   "source": [
    "plt.plot(df.date, df.value)\n",
    "plt.show()"
   ]
  }
 ],
 "metadata": {
  "kernelspec": {
   "display_name": "Python 3 (ipykernel)",
   "language": "python",
   "name": "python3"
  },
  "language_info": {
   "codemirror_mode": {
    "name": "ipython",
    "version": 3
   },
   "file_extension": ".py",
   "mimetype": "text/x-python",
   "name": "python",
   "nbconvert_exporter": "python",
   "pygments_lexer": "ipython3",
   "version": "3.9.12"
  }
 },
 "nbformat": 4,
 "nbformat_minor": 5
}
